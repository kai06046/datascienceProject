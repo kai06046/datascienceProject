{
 "cells": [
  {
   "cell_type": "code",
   "execution_count": 2,
   "metadata": {
    "collapsed": false,
    "scrolled": true
   },
   "outputs": [
    {
     "name": "stdout",
     "output_type": "stream",
     "text": [
      "https://www.ptt.cc/bbs/Stock/index1697.html\n",
      "https://www.ptt.cc/bbs/Stock/index1698.html\n",
      "https://www.ptt.cc/bbs/Stock/index1792.html\n",
      "https://www.ptt.cc/bbs/Stock/index1793.html\n",
      "https://www.ptt.cc/bbs/Stock/index1794.html\n",
      "https://www.ptt.cc/bbs/Stock/index1795.html\n",
      "https://www.ptt.cc/bbs/Stock/index1796.html\n",
      "https://www.ptt.cc/bbs/Stock/index2661.html\n",
      "https://www.ptt.cc/bbs/Stock/index2662.html\n",
      "https://www.ptt.cc/bbs/Stock/index2663.html\n",
      "https://www.ptt.cc/bbs/Stock/index2664.html\n",
      "https://www.ptt.cc/bbs/Stock/index2665.html\n",
      "https://www.ptt.cc/bbs/Stock/index2666.html\n",
      "https://www.ptt.cc/bbs/Stock/index2667.html\n",
      "https://www.ptt.cc/bbs/Stock/index2668.html\n",
      "https://www.ptt.cc/bbs/Stock/index2669.html\n",
      "https://www.ptt.cc/bbs/Stock/index2670.html\n",
      "https://www.ptt.cc/bbs/Stock/index2671.html\n",
      "https://www.ptt.cc/bbs/Stock/index2672.html\n",
      "https://www.ptt.cc/bbs/Stock/index2673.html\n",
      "https://www.ptt.cc/bbs/Stock/index2674.html\n",
      "error: 47\n",
      "Time taken:  10044.0467701 seconds.\n"
     ]
    }
   ],
   "source": [
    "import requests\n",
    "import urllib\n",
    "from bs4 import BeautifulSoup\n",
    "import time\n",
    "\n",
    "start = time.time()\n",
    "url=list()\n",
    "for i in range(1,2944):\n",
    "    a = \"https://www.ptt.cc/bbs/Stock/index\"+str(i)+\".html\"\n",
    "    url.append(a)\n",
    "url.append(\"https://www.ptt.cc/bbs/Stock/index.html\")\n",
    "\n",
    "error = list()\n",
    "for i in range(len(url)):\n",
    "    time.sleep(0.01)\n",
    "    try:\n",
    "        response = requests.get(url[i])\n",
    "        soup = BeautifulSoup(response.text)\n",
    "        g = soup.find_all(\"a\")\n",
    "        abc = list()\n",
    "        for l in g: \n",
    "            if str(\"/bbs/Stock/M\") in str(l.get(\"href\")):\n",
    "                abc.append(l.get(\"href\"))\n",
    "        for j in range(len(abc)):\n",
    "            b = \"https://www.ptt.cc\"+str(abc[j])\n",
    "            time.sleep(0.01)\n",
    "            try:\n",
    "                urllib.urlretrieve(b, \"/Users/kyoyachuan/Downloads/ptt/\"+str(i)+str(j)+\".txt\")\n",
    "            except:\n",
    "                error.append(b)\n",
    "    except:\n",
    "        print url[i]\n",
    "print 'error:', len(error)\n",
    "if len(error) != 0:\n",
    "    for j in range(len(error)):\n",
    "        try:\n",
    "            urllib.urlretrieve(error[j], \"/Users/kyoyachuan/Downloads/ptt/error\"+str(j)+\".txt\")\n",
    "        except:\n",
    "            print error[j]\n",
    "            \n",
    "end = time.time()\n",
    "elapsed = end - start\n",
    "print \"Time taken: \", elapsed, \"seconds.\""
   ]
  },
  {
   "cell_type": "code",
   "execution_count": 1,
   "metadata": {
    "collapsed": false
   },
   "outputs": [
    {
     "name": "stdout",
     "output_type": "stream",
     "text": [
      "error: 0\n",
      "Time taken:  111.493741989 seconds.\n"
     ]
    },
    {
     "name": "stderr",
     "output_type": "stream",
     "text": [
      "/Users/kyoyachuan/anaconda2/lib/python2.7/site-packages/bs4/__init__.py:166: UserWarning: No parser was explicitly specified, so I'm using the best available HTML parser for this system (\"lxml\"). This usually isn't a problem, but if you run this code on another system, or in a different virtual environment, it may use a different parser and behave differently.\n",
      "\n",
      "To get rid of this warning, change this:\n",
      "\n",
      " BeautifulSoup([your markup])\n",
      "\n",
      "to this:\n",
      "\n",
      " BeautifulSoup([your markup], \"lxml\")\n",
      "\n",
      "  markup_type=markup_type))\n"
     ]
    }
   ],
   "source": [
    "import requests\n",
    "import urllib\n",
    "from bs4 import BeautifulSoup\n",
    "import time\n",
    "\n",
    "left=list()\n",
    "for i in range(1687,1699):\n",
    "    left.append('https://www.ptt.cc/bbs/Stock/index'+str(i)+'.html')\n",
    "for i in range(1792,1797):\n",
    "    left.append('https://www.ptt.cc/bbs/Stock/index'+str(i)+'.html')\n",
    "for i in range(2661,2675):\n",
    "    left.append('https://www.ptt.cc/bbs/Stock/index'+str(i)+'.html')\n",
    "\n",
    "start= time.time()\n",
    "error = list()\n",
    "for i in range(len(left)):\n",
    "    time.sleep(0.01)\n",
    "    try:\n",
    "        response = requests.get(left[i])\n",
    "        soup = BeautifulSoup(response.text)\n",
    "        g = soup.find_all(\"a\")\n",
    "        abc = list()\n",
    "        for l in g: \n",
    "            if str(\"/bbs/Stock/M\") in str(l.get(\"href\")):\n",
    "                abc.append(l.get(\"href\"))\n",
    "        for j in range(len(abc)):\n",
    "            b = \"https://www.ptt.cc\"+str(abc[j])\n",
    "            time.sleep(0.01)\n",
    "            try:\n",
    "                urllib.urlretrieve(b, \"/Users/kyoyachuan/Downloads/ptt/left\"+str(i)+str(j)+\".txt\")\n",
    "            except:\n",
    "                error.append(b)\n",
    "    except:\n",
    "        print url[i]\n",
    "print 'error:', len(error)\n",
    "if len(error) != 0:\n",
    "    for j in range(len(error)):\n",
    "        try:\n",
    "            urllib.urlretrieve(error[j], \"/Users/kyoyachuan/Downloads/ptt/lefterror\"+str(j)+\".txt\")\n",
    "        except:\n",
    "            print error[j]\n",
    "\n",
    "end = time.time()\n",
    "elapsed = end - start\n",
    "print \"Time taken: \", elapsed, \"seconds.\"\n"
   ]
  },
  {
   "cell_type": "code",
   "execution_count": 1,
   "metadata": {
    "collapsed": false
   },
   "outputs": [
    {
     "name": "stderr",
     "output_type": "stream",
     "text": [
      "/Users/kyoyachuan/anaconda2/lib/python2.7/site-packages/bs4/__init__.py:166: UserWarning: No parser was explicitly specified, so I'm using the best available HTML parser for this system (\"lxml\"). This usually isn't a problem, but if you run this code on another system, or in a different virtual environment, it may use a different parser and behave differently.\n",
      "\n",
      "To get rid of this warning, change this:\n",
      "\n",
      " BeautifulSoup([your markup])\n",
      "\n",
      "to this:\n",
      "\n",
      " BeautifulSoup([your markup], \"lxml\")\n",
      "\n",
      "  markup_type=markup_type))\n"
     ]
    }
   ],
   "source": [
    "import requests\n",
    "import urllib\n",
    "from bs4 import BeautifulSoup\n",
    "import time\n",
    "\n",
    "left=list()\n",
    "for i in range(1687,1699):\n",
    "    left.append('https://www.ptt.cc/bbs/Stock/index'+str(i)+'.html')\n",
    "for i in range(1792,1797):\n",
    "    left.append('https://www.ptt.cc/bbs/Stock/index'+str(i)+'.html')\n",
    "for i in range(2661,2675):\n",
    "    left.append('https://www.ptt.cc/bbs/Stock/index'+str(i)+'.html')\n",
    "\n",
    "#start= time.time()\n",
    "error = list()\n",
    "for i in range(len(left)):\n",
    "    time.sleep(0.01)\n",
    "    try:\n",
    "        response = requests.get(left[i])\n",
    "        soup = BeautifulSoup(response.text)\n",
    "        g = soup.find_all(\"a\")\n",
    "        abc = list()\n",
    "        for l in g: \n",
    "            if str(\"/bbs/Stock/M\") in str(l.get(\"href\")):\n",
    "                abc.append(l.get(\"href\"))\n",
    "        for j in range(len(abc)):\n",
    "            b = \"https://www.ptt.cc\"+str(abc[j])\n",
    "            time.sleep(0.01)\n",
    "            try:\n",
    "                urllib.urlretrieve(b, \"/Users/kyoyachuan/Downloads/ptt/left\"+str(i)+str(j)+\".html\")\n",
    "            except:\n",
    "                error.append(b)\n",
    "    except:\n",
    "        print url[i]\n",
    "    break\n",
    "#print 'error:', len(error)\n",
    "#if len(error) != 0:\n",
    "#    for j in range(len(error)):\n",
    "#        try:\n",
    "#            urllib.urlretrieve(error[j], \"/Users/kyoyachuan/Downloads/ptt/lefterror\"+str(j)+\".txt\")\n",
    "#        except:\n",
    "#            print error[j]"
   ]
  },
  {
   "cell_type": "code",
   "execution_count": 11,
   "metadata": {
    "collapsed": false
   },
   "outputs": [],
   "source": [
    "import requests\n",
    "import urllib\n",
    "from bs4 import BeautifulSoup\n",
    "import time\n",
    "\n",
    "left=list()\n",
    "for i in range(1687,1699):\n",
    "    left.append('https://www.ptt.cc/bbs/Stock/index'+str(i)+'.html')\n",
    "for i in range(1792,1797):\n",
    "    left.append('https://www.ptt.cc/bbs/Stock/index'+str(i)+'.html')\n",
    "for i in range(2661,2675):\n",
    "    left.append('https://www.ptt.cc/bbs/Stock/index'+str(i)+'.html')\n",
    "\n",
    "#start= time.time()\n",
    "error = list()\n",
    "for i in range(len(left)):\n",
    "    time.sleep(0.01)\n",
    "    try:\n",
    "        response = requests.get(left[i])\n",
    "        soup = BeautifulSoup(response.text)\n",
    "        g = soup.find_all(\"a\")\n",
    "        abc = list()\n",
    "        f = open(\"/Users/kyoyachuan/Downloads/ptt2/\"+str(i)+\".html\",'w')\n",
    "        f.write('response.text')\n",
    "        f.close()\n",
    "        break\n",
    "    except:\n",
    "        print response.text\n",
    "    break\n",
    "#print 'error:', len(error)\n",
    "#if len(error) != 0:\n",
    "#    for j in range(len(error)):\n",
    "#        try:\n",
    "#            urllib.urlretrieve(error[j], \"/Users/kyoyachuan/Downloads/ptt/lefterror\"+str(j)+\".txt\")\n",
    "#        except:\n",
    "#            print error[j]"
   ]
  },
  {
   "cell_type": "code",
   "execution_count": 22,
   "metadata": {
    "collapsed": false
   },
   "outputs": [
    {
     "ename": "IndentationError",
     "evalue": "unexpected unindent (<ipython-input-22-8a7d47318dc0>, line 24)",
     "output_type": "error",
     "traceback": [
      "\u001b[0;36m  File \u001b[0;32m\"<ipython-input-22-8a7d47318dc0>\"\u001b[0;36m, line \u001b[0;32m24\u001b[0m\n\u001b[0;31m    f.close()\u001b[0m\n\u001b[0m             ^\u001b[0m\n\u001b[0;31mIndentationError\u001b[0m\u001b[0;31m:\u001b[0m unexpected unindent\n"
     ]
    }
   ],
   "source": [
    "import requests\n",
    "import urllib\n",
    "from bs4 import BeautifulSoup\n",
    "import time\n",
    "\n",
    "left=list()\n",
    "for i in range(1687,1699):\n",
    "    left.append('https://www.ptt.cc/bbs/Stock/index'+str(i)+'.html')\n",
    "for i in range(1792,1797):\n",
    "    left.append('https://www.ptt.cc/bbs/Stock/index'+str(i)+'.html')\n",
    "for i in range(2661,2675):\n",
    "    left.append('https://www.ptt.cc/bbs/Stock/index'+str(i)+'.html')\n",
    "\n",
    "#start= time.time()\n",
    "error = list()\n",
    "for i in range(len(left)):\n",
    "    time.sleep(0.01)\n",
    "    response = requests.get(left[i])\n",
    "    soup = BeautifulSoup(response.text)\n",
    "    for line in response.text:\n",
    "        f = open(\"/Users/kyoyachuan/Downloads/ptt2/\"+str(i)+\".html\",'w')\n",
    "        f.write(line)\n",
    "        f.close()"
   ]
  },
  {
   "cell_type": "code",
   "execution_count": 20,
   "metadata": {
    "collapsed": false
   },
   "outputs": [
    {
     "data": {
      "text/plain": [
       "u'<!DOCTYPE html>\\n<html>\\n <head>\\n  <meta charset=\"utf-8\"/>\\n  <meta content=\"width=device-width\" name=\"viewport\"/>\\n  <title>\\n   \\u770b\\u677f Stock \\u6587\\u7ae0\\u5217\\u8868 - \\u6279\\u8e22\\u8e22\\u5be6\\u696d\\u574a\\n  </title>\\n  <link href=\"//images.ptt.cc/v2.14/bbs-common.css\" rel=\"stylesheet\" type=\"text/css\"/>\\n  <link href=\"//images.ptt.cc/v2.14/bbs.css\" media=\"screen\" rel=\"stylesheet\" type=\"text/css\"/>\\n  <link href=\"//images.ptt.cc/v2.14/pushstream.css\" media=\"screen\" rel=\"stylesheet\" type=\"text/css\"/>\\n  <link href=\"//images.ptt.cc/v2.14/bbs-print.css\" media=\"print\" rel=\"stylesheet\" type=\"text/css\"/>\\n  <script src=\"//ajax.googleapis.com/ajax/libs/jquery/2.1.1/jquery.min.js\">\\n  </script>\\n  <script src=\"//images.ptt.cc/v2.14/bbs.js\">\\n  </script>\\n  <script type=\"text/javascript\">\\n   var _gaq = _gaq || [];\\n  _gaq.push([\\'_setAccount\\', \\'UA-32365737-1\\']);\\n  _gaq.push([\\'_setDomainName\\', \\'ptt.cc\\']);\\n  _gaq.push([\\'_trackPageview\\']);\\n\\n  (function() {\\n    var ga = document.createElement(\\'script\\'); ga.type = \\'text/javascript\\'; ga.async = true;\\n    ga.src = (\\'https:\\' == document.location.protocol ? \\'https://ssl\\' : \\'http://www\\') + \\'.google-analytics.com/ga.js\\';\\n    var s = document.getElementsByTagName(\\'script\\')[0]; s.parentNode.insertBefore(ga, s);\\n  })();\\n  </script>\\n </head>\\n <body>\\n  <div id=\"topbar-container\">\\n   <div class=\"bbs-content\" id=\"topbar\">\\n    <a href=\"/\" id=\"logo\">\\n     \\u6279\\u8e22\\u8e22\\u5be6\\u696d\\u574a\\n    </a>\\n    <span>\\n     \\u203a\\n    </span>\\n    <a class=\"board\" href=\"/bbs/Stock/index.html\">\\n     <span class=\"board-label\">\\n      \\u770b\\u677f\\n     </span>\\n     Stock\\n    </a>\\n    <a class=\"right small\" href=\"/about.html\">\\n     \\u95dc\\u65bc\\u6211\\u5011\\n    </a>\\n    <a class=\"right small\" href=\"/contact.html\">\\n     \\u806f\\u7d61\\u8cc7\\u8a0a\\n    </a>\\n   </div>\\n  </div>\\n  <div id=\"main-container\">\\n   <div id=\"action-bar-container\">\\n    <div class=\"action-bar\">\\n     <div class=\"btn-group\">\\n      <a class=\"btn selected\" href=\"/bbs/Stock/index.html\">\\n       \\u770b\\u677f\\n      </a>\\n      <a class=\"btn\" href=\"/man/Stock/index.html\">\\n       \\u7cbe\\u83ef\\u5340\\n      </a>\\n     </div>\\n     <div class=\"btn-group pull-right\">\\n      <a class=\"btn wide\" href=\"/bbs/Stock/index1.html\">\\n       \\u6700\\u820a\\n      </a>\\n      <a class=\"btn wide\" href=\"/bbs/Stock/index1686.html\">\\n       \\u2039 \\u4e0a\\u9801\\n      </a>\\n      <a class=\"btn wide\" href=\"/bbs/Stock/index1688.html\">\\n       \\u4e0b\\u9801 \\u203a\\n      </a>\\n      <a class=\"btn wide\" href=\"/bbs/Stock/index.html\">\\n       \\u6700\\u65b0\\n      </a>\\n     </div>\\n    </div>\\n   </div>\\n   <div class=\"r-list-container bbs-screen\">\\n    <div class=\"r-ent\">\\n     <div class=\"nrec\">\\n      <span class=\"hl f2\">\\n       5\\n      </span>\\n     </div>\\n     <div class=\"mark\">\\n     </div>\\n     <div class=\"title\">\\n      <a href=\"/bbs/Stock/M.1414938140.A.155.html\">\\n       Re: [\\u5fc3\\u5f97] \\u91cf\\u5316\\u5bec\\u9b06(QE)\\u9000\\u5834\\u3001\\u539f\\u7269\\u6599\\u8ddf\\u8457\\u966a\\u846c\\n      </a>\\n     </div>\\n     <div class=\"meta\">\\n      <div class=\"date\">\\n       11/02\\n      </div>\\n      <div class=\"author\">\\n       bota\\n      </div>\\n     </div>\\n    </div>\\n    <div class=\"r-ent\">\\n     <div class=\"nrec\">\\n      <span class=\"hl f2\">\\n       4\\n      </span>\\n     </div>\\n     <div class=\"mark\">\\n     </div>\\n     <div class=\"title\">\\n      <a href=\"/bbs/Stock/M.1414938869.A.80C.html\">\\n       [\\u65b0\\u805e] \\u53f0\\u80a110\\u6708\\u9577\\u4e0b\\u5f71\\u7dda\\u6210\\u578b\\uff0c11\\u6708\\u53c8\\u8a72\\u5982\\u4f55\\uff1f\\n      </a>\\n     </div>\\n     <div class=\"meta\">\\n      <div class=\"date\">\\n       11/02\\n      </div>\\n      <div class=\"author\">\\n       ComomoBear\\n      </div>\\n     </div>\\n    </div>\\n    <div class=\"r-ent\">\\n     <div class=\"nrec\">\\n      <span class=\"hl f2\">\\n       4\\n      </span>\\n     </div>\\n     <div class=\"mark\">\\n     </div>\\n     <div class=\"title\">\\n      <a href=\"/bbs/Stock/M.1414938938.A.9F6.html\">\\n       [\\u6a19\\u7684] 2387\\u7cbe\\u5143\\n      </a>\\n     </div>\\n     <div class=\"meta\">\\n      <div class=\"date\">\\n       11/02\\n      </div>\\n      <div class=\"author\">\\n       au4au4j3fu4\\n      </div>\\n     </div>\\n    </div>\\n    <div class=\"r-ent\">\\n     <div class=\"nrec\">\\n      <span class=\"hl f2\">\\n       7\\n      </span>\\n     </div>\\n     <div class=\"mark\">\\n     </div>\\n     <div class=\"title\">\\n      <a href=\"/bbs/Stock/M.1414939333.A.C4F.html\">\\n       [\\u65b0\\u805e] \\u5927\\u6236\\u4e0d\\u56de\\u7c60 \\u6295\\u9867\\uff1a\\u6cd5\\u4eba\\u8b49\\u6240\\u7a05\\u8abf\\u5347\\u60f9\\u798d\\n      </a>\\n     </div>\\n     <div class=\"meta\">\\n      <div class=\"date\">\\n       11/02\\n      </div>\\n      <div class=\"author\">\\n       ComomoBear\\n      </div>\\n     </div>\\n    </div>\\n    <div class=\"r-ent\">\\n     <div class=\"nrec\">\\n      <span class=\"hl f3\">\\n       17\\n      </span>\\n     </div>\\n     <div class=\"mark\">\\n     </div>\\n     <div class=\"title\">\\n      <a href=\"/bbs/Stock/M.1414940271.A.122.html\">\\n       [\\u6a19\\u7684] \\u672c\\u9031\\u7a0b\\u5f0f\\u9078\\u80a1\\u7d50\\u679c + \\u570b\\u969b\\u5927\\u6236\\u6700\\u65b0\\u9032\\u51fa\\n      </a>\\n     </div>\\n     <div class=\"meta\">\\n      <div class=\"date\">\\n       11/02\\n      </div>\\n      <div class=\"author\">\\n       b89207040\\n      </div>\\n     </div>\\n    </div>\\n    <div class=\"r-ent\">\\n     <div class=\"nrec\">\\n      <span class=\"hl f3\">\\n       27\\n      </span>\\n     </div>\\n     <div class=\"mark\">\\n     </div>\\n     <div class=\"title\">\\n      <a href=\"/bbs/Stock/M.1414941768.A.697.html\">\\n       Re: [\\u5fc3\\u5f97] \\u7f8e\\u80a1\\u5341\\u6708\\u7684\\u9ad8\\u6a94\\u9577\\u4e0b\\u5f71\\u7dda\\u7d05K\\u610f\\u7fa9\\n      </a>\\n     </div>\\n     <div class=\"meta\">\\n      <div class=\"date\">\\n       11/02\\n      </div>\\n      <div class=\"author\">\\n       fatpooh\\n      </div>\\n     </div>\\n    </div>\\n    <div class=\"r-ent\">\\n     <div class=\"nrec\">\\n      <span class=\"hl f3\">\\n       25\\n      </span>\\n     </div>\\n     <div class=\"mark\">\\n     </div>\\n     <div class=\"title\">\\n      <a href=\"/bbs/Stock/M.1414949202.A.2A8.html\">\\n       [\\u8acb\\u76ca] \\u91d1\\u50f9\\u7834\\u5e95\\u6c92\\u4eba\\u8a0e\\u8ad6?\\n      </a>\\n     </div>\\n     <div class=\"meta\">\\n      <div class=\"date\">\\n       11/03\\n      </div>\\n      <div class=\"author\">\\n       dreamlife\\n      </div>\\n     </div>\\n    </div>\\n    <div class=\"r-ent\">\\n     <div class=\"nrec\">\\n     </div>\\n     <div class=\"mark\">\\n     </div>\\n     <div class=\"title\">\\n      <a href=\"/bbs/Stock/M.1414955378.A.406.html\">\\n       [\\u8acb\\u76ca] \\u8acb\\u554f\\u6709\\u6c92\\u6709\\u67e5adr\\u65b9\\u4fbf\\u7684\\u7db2\\u7ad9\\n      </a>\\n     </div>\\n     <div class=\"meta\">\\n      <div class=\"date\">\\n       11/03\\n      </div>\\n      <div class=\"author\">\\n       chopinmozart\\n      </div>\\n     </div>\\n    </div>\\n    <div class=\"r-ent\">\\n     <div class=\"nrec\">\\n     </div>\\n     <div class=\"mark\">\\n      M\\n     </div>\\n     <div class=\"title\">\\n      <a href=\"/bbs/Stock/M.1414977761.A.522.html\">\\n       [Stock] \\u770b\\u677f \\u9078\\u60c5\\u5831\\u5c0e\\n      </a>\\n     </div>\\n     <div class=\"meta\">\\n      <div class=\"date\">\\n       11/03\\n      </div>\\n      <div class=\"author\">\\n       [\\u99ac\\u8def\\u63a2\\u5b50]\\n      </div>\\n     </div>\\n    </div>\\n    <div class=\"r-ent\">\\n     <div class=\"nrec\">\\n      <span class=\"hl f2\">\\n       4\\n      </span>\\n     </div>\\n     <div class=\"mark\">\\n      M\\n     </div>\\n     <div class=\"title\">\\n      <a href=\"/bbs/Stock/M.1414977772.A.683.html\">\\n       [Stock] \\u770b\\u677f \\u9078\\u60c5\\u5831\\u5c0e\\n      </a>\\n     </div>\\n     <div class=\"meta\">\\n      <div class=\"date\">\\n       11/03\\n      </div>\\n      <div class=\"author\">\\n       [\\u99ac\\u8def\\u63a2\\u5b50]\\n      </div>\\n     </div>\\n    </div>\\n    <div class=\"r-ent\">\\n     <div class=\"nrec\">\\n      <span class=\"hl f2\">\\n       5\\n      </span>\\n     </div>\\n     <div class=\"mark\">\\n     </div>\\n     <div class=\"title\">\\n      <a href=\"/bbs/Stock/M.1414980799.A.D96.html\">\\n       [\\u65b0\\u805e] \\u591a\\u65b9\\u53cd\\u653b \\u9d3b\\u6d77\\u3001\\u5b8f\\u9054\\u96fb\\u767b\\u9ad8\\u4e00\\u547c\\uff01\\u6307\\u6578\\u6a19\\n      </a>\\n     </div>\\n     <div class=\"meta\">\\n      <div class=\"date\">\\n       11/03\\n      </div>\\n      <div class=\"author\">\\n       yesman116\\n      </div>\\n     </div>\\n    </div>\\n    <div class=\"r-ent\">\\n     <div class=\"nrec\">\\n      <span class=\"hl f2\">\\n       8\\n      </span>\\n     </div>\\n     <div class=\"mark\">\\n     </div>\\n     <div class=\"title\">\\n      <a href=\"/bbs/Stock/M.1414981548.A.287.html\">\\n       Re: [\\u6a19\\u7684] 3008 \\u5927\\u7acb\\u5149\\n      </a>\\n     </div>\\n     <div class=\"meta\">\\n      <div class=\"date\">\\n       11/03\\n      </div>\\n      <div class=\"author\">\\n       elision\\n      </div>\\n     </div>\\n    </div>\\n    <div class=\"r-ent\">\\n     <div class=\"nrec\">\\n      <span class=\"hl f3\">\\n       20\\n      </span>\\n     </div>\\n     <div class=\"mark\">\\n     </div>\\n     <div class=\"title\">\\n      <a href=\"/bbs/Stock/M.1414982025.A.2BA.html\">\\n       [\\u5fc3\\u5f97] \\u672b\\u5347\\u6bb5\\u7206\\u767c\\u95dc\\u9375-M\\u982d\\u80fd\\u5426\\u9806\\u5229\\u8f49\\u5316\\u982d\\u80a9\\u5e95\\n      </a>\\n     </div>\\n     <div class=\"meta\">\\n      <div class=\"date\">\\n       11/03\\n      </div>\\n      <div class=\"author\">\\n       aitt\\n      </div>\\n     </div>\\n    </div>\\n    <div class=\"r-ent\">\\n     <div class=\"nrec\">\\n      <span class=\"hl f2\">\\n       6\\n      </span>\\n     </div>\\n     <div class=\"mark\">\\n     </div>\\n     <div class=\"title\">\\n      <a href=\"/bbs/Stock/M.1414984460.A.220.html\">\\n       [\\u6a19\\u7684] 8429 \\u77ed\\u591a\\n      </a>\\n     </div>\\n     <div class=\"meta\">\\n      <div class=\"date\">\\n       11/03\\n      </div>\\n      <div class=\"author\">\\n       leokuang\\n      </div>\\n     </div>\\n    </div>\\n    <div class=\"r-ent\">\\n     <div class=\"nrec\">\\n      <span class=\"hl f2\">\\n       4\\n      </span>\\n     </div>\\n     <div class=\"mark\">\\n     </div>\\n     <div class=\"title\">\\n      <a href=\"/bbs/Stock/M.1414988443.A.25D.html\">\\n       [\\u6a19\\u7684] 1729\\u5fc5\\u7fd4 \\u7a7a\\n      </a>\\n     </div>\\n     <div class=\"meta\">\\n      <div class=\"date\">\\n       11/03\\n      </div>\\n      <div class=\"author\">\\n       chacola5m\\n      </div>\\n     </div>\\n    </div>\\n    <div class=\"r-ent\">\\n     <div class=\"nrec\">\\n      <span class=\"hl f2\">\\n       3\\n      </span>\\n     </div>\\n     <div class=\"mark\">\\n     </div>\\n     <div class=\"title\">\\n      <a href=\"/bbs/Stock/M.1414989612.A.6C7.html\">\\n       [\\u65b0\\u805e] \\u570b\\u969b\\u92fc\\u50f9\\u7de9\\u8dcc \\u8c50\\u8208\\u5ee2\\u92fc\\u92fc\\u7b4b\\u5e73\\u76e4\\n      </a>\\n     </div>\\n     <div class=\"meta\">\\n      <div class=\"date\">\\n       11/03\\n      </div>\\n      <div class=\"author\">\\n       Daron309\\n      </div>\\n     </div>\\n    </div>\\n    <div class=\"r-ent\">\\n     <div class=\"nrec\">\\n      <span class=\"hl f2\">\\n       4\\n      </span>\\n     </div>\\n     <div class=\"mark\">\\n     </div>\\n     <div class=\"title\">\\n      <a href=\"/bbs/Stock/M.1414990365.A.DEE.html\">\\n       [\\u6a19\\u7684] 9939\\u5b8f\\u5168\\n      </a>\\n     </div>\\n     <div class=\"meta\">\\n      <div class=\"date\">\\n       11/03\\n      </div>\\n      <div class=\"author\">\\n       ddtqoo\\n      </div>\\n     </div>\\n    </div>\\n    <div class=\"r-ent\">\\n     <div class=\"nrec\">\\n     </div>\\n     <div class=\"mark\">\\n     </div>\\n     <div class=\"title\">\\n      <a href=\"/bbs/Stock/M.1414990562.A.049.html\">\\n       [\\u65b0\\u805e] \\u862d\\u683c\\u92fc\\u9435\\uff1a\\u6cb3\\u5317\\u9650\\u7522\\u81e8\\u8fd1\\u92fc\\u5e02\\u6709\\u77ed\\u66ab\\u53cd\\u5f48\\u53ef\\n      </a>\\n     </div>\\n     <div class=\"meta\">\\n      <div class=\"date\">\\n       11/03\\n      </div>\\n      <div class=\"author\">\\n       Jerry\\n      </div>\\n     </div>\\n    </div>\\n    <div class=\"r-ent\">\\n     <div class=\"nrec\">\\n     </div>\\n     <div class=\"mark\">\\n     </div>\\n     <div class=\"title\">\\n      <a href=\"/bbs/Stock/M.1414991333.A.47B.html\">\\n       [\\u65b0\\u805e] \\u4e2d\\u92fc\\u5354\\uff1a\\u7d93\\u6fdf\\u589e\\u9577\\u5c0d\\u92fc\\u6750\\u9700\\u6c42\\u6301\\u7e8c\\u4e0b\\u964d\\n      </a>\\n     </div>\\n     <div class=\"meta\">\\n      <div class=\"date\">\\n       11/03\\n      </div>\\n      <div class=\"author\">\\n       Jerry\\n      </div>\\n     </div>\\n    </div>\\n    <div class=\"r-ent\">\\n     <div class=\"nrec\">\\n      <span class=\"hl f2\">\\n       6\\n      </span>\\n     </div>\\n     <div class=\"mark\">\\n     </div>\\n     <div class=\"title\">\\n      <a href=\"/bbs/Stock/M.1414991708.A.066.html\">\\n       [\\u6a19\\u7684] 8039 \\u53f0\\u8679 (\\u7a7a)\\n      </a>\\n     </div>\\n     <div class=\"meta\">\\n      <div class=\"date\">\\n       11/03\\n      </div>\\n      <div class=\"author\">\\n       justno1\\n      </div>\\n     </div>\\n    </div>\\n   </div>\\n  </div>\\n </body>\\n</html>\\n'"
      ]
     },
     "execution_count": 20,
     "metadata": {},
     "output_type": "execute_result"
    }
   ],
   "source": [
    "soup.prettify()"
   ]
  },
  {
   "cell_type": "code",
   "execution_count": null,
   "metadata": {
    "collapsed": true
   },
   "outputs": [],
   "source": []
  }
 ],
 "metadata": {
  "kernelspec": {
   "display_name": "Python 2",
   "language": "python",
   "name": "python2"
  },
  "language_info": {
   "codemirror_mode": {
    "name": "ipython",
    "version": 2
   },
   "file_extension": ".py",
   "mimetype": "text/x-python",
   "name": "python",
   "nbconvert_exporter": "python",
   "pygments_lexer": "ipython2",
   "version": "2.7.11"
  }
 },
 "nbformat": 4,
 "nbformat_minor": 0
}
