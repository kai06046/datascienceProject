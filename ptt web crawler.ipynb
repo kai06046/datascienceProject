{
 "cells": [
  {
   "cell_type": "code",
   "execution_count": 2,
   "metadata": {
    "collapsed": false,
    "scrolled": true
   },
   "outputs": [
    {
     "name": "stdout",
     "output_type": "stream",
     "text": [
      "https://www.ptt.cc/bbs/Stock/index1697.html\n",
      "https://www.ptt.cc/bbs/Stock/index1698.html\n",
      "https://www.ptt.cc/bbs/Stock/index1792.html\n",
      "https://www.ptt.cc/bbs/Stock/index1793.html\n",
      "https://www.ptt.cc/bbs/Stock/index1794.html\n",
      "https://www.ptt.cc/bbs/Stock/index1795.html\n",
      "https://www.ptt.cc/bbs/Stock/index1796.html\n",
      "https://www.ptt.cc/bbs/Stock/index2661.html\n",
      "https://www.ptt.cc/bbs/Stock/index2662.html\n",
      "https://www.ptt.cc/bbs/Stock/index2663.html\n",
      "https://www.ptt.cc/bbs/Stock/index2664.html\n",
      "https://www.ptt.cc/bbs/Stock/index2665.html\n",
      "https://www.ptt.cc/bbs/Stock/index2666.html\n",
      "https://www.ptt.cc/bbs/Stock/index2667.html\n",
      "https://www.ptt.cc/bbs/Stock/index2668.html\n",
      "https://www.ptt.cc/bbs/Stock/index2669.html\n",
      "https://www.ptt.cc/bbs/Stock/index2670.html\n",
      "https://www.ptt.cc/bbs/Stock/index2671.html\n",
      "https://www.ptt.cc/bbs/Stock/index2672.html\n",
      "https://www.ptt.cc/bbs/Stock/index2673.html\n",
      "https://www.ptt.cc/bbs/Stock/index2674.html\n",
      "error: 47\n",
      "Time taken:  10044.0467701 seconds.\n"
     ]
    }
   ],
   "source": [
    "import requests\n",
    "import urllib\n",
    "from bs4 import BeautifulSoup\n",
    "import time\n",
    "\n",
    "start = time.time()\n",
    "url=list()\n",
    "for i in range(1,2944):\n",
    "    a = \"https://www.ptt.cc/bbs/Stock/index\"+str(i)+\".html\"\n",
    "    url.append(a)\n",
    "url.append(\"https://www.ptt.cc/bbs/Stock/index.html\")\n",
    "\n",
    "error = list()\n",
    "for i in range(len(url)):\n",
    "    time.sleep(0.01)\n",
    "    try:\n",
    "        response = requests.get(url[i])\n",
    "        soup = BeautifulSoup(response.text)\n",
    "        g = soup.find_all(\"a\")\n",
    "        abc = list()\n",
    "        for l in g: \n",
    "            if str(\"/bbs/Stock/M\") in str(l.get(\"href\")):\n",
    "                abc.append(l.get(\"href\"))\n",
    "        for j in range(len(abc)):\n",
    "            b = \"https://www.ptt.cc\"+str(abc[j])\n",
    "            time.sleep(0.01)\n",
    "            try:\n",
    "                urllib.urlretrieve(b, \"/Users/kyoyachuan/Downloads/ptt/\"+str(i)+str(j)+\".txt\")\n",
    "            except:\n",
    "                error.append(b)\n",
    "    except:\n",
    "        print url[i]\n",
    "print 'error:', len(error)\n",
    "if len(error) != 0:\n",
    "    for j in range(len(error)):\n",
    "        try:\n",
    "            urllib.urlretrieve(error[j], \"/Users/kyoyachuan/Downloads/ptt/error\"+str(j)+\".txt\")\n",
    "        except:\n",
    "            print error[j]\n",
    "            \n",
    "end = time.time()\n",
    "elapsed = end - start\n",
    "print \"Time taken: \", elapsed, \"seconds.\""
   ]
  },
  {
   "cell_type": "code",
   "execution_count": 1,
   "metadata": {
    "collapsed": false
   },
   "outputs": [
    {
     "name": "stdout",
     "output_type": "stream",
     "text": [
      "error: 0\n",
      "Time taken:  111.493741989 seconds.\n"
     ]
    },
    {
     "name": "stderr",
     "output_type": "stream",
     "text": [
      "/Users/kyoyachuan/anaconda2/lib/python2.7/site-packages/bs4/__init__.py:166: UserWarning: No parser was explicitly specified, so I'm using the best available HTML parser for this system (\"lxml\"). This usually isn't a problem, but if you run this code on another system, or in a different virtual environment, it may use a different parser and behave differently.\n",
      "\n",
      "To get rid of this warning, change this:\n",
      "\n",
      " BeautifulSoup([your markup])\n",
      "\n",
      "to this:\n",
      "\n",
      " BeautifulSoup([your markup], \"lxml\")\n",
      "\n",
      "  markup_type=markup_type))\n"
     ]
    }
   ],
   "source": [
    "import requests\n",
    "import urllib\n",
    "from bs4 import BeautifulSoup\n",
    "import time\n",
    "\n",
    "left=list()\n",
    "for i in range(1687,1699):\n",
    "    left.append('https://www.ptt.cc/bbs/Stock/index'+str(i)+'.html')\n",
    "for i in range(1792,1797):\n",
    "    left.append('https://www.ptt.cc/bbs/Stock/index'+str(i)+'.html')\n",
    "for i in range(2661,2675):\n",
    "    left.append('https://www.ptt.cc/bbs/Stock/index'+str(i)+'.html')\n",
    "\n",
    "start= time.time()\n",
    "error = list()\n",
    "for i in range(len(left)):\n",
    "    time.sleep(0.01)\n",
    "    try:\n",
    "        response = requests.get(left[i])\n",
    "        soup = BeautifulSoup(response.text)\n",
    "        g = soup.find_all(\"a\")\n",
    "        abc = list()\n",
    "        for l in g: \n",
    "            if str(\"/bbs/Stock/M\") in str(l.get(\"href\")):\n",
    "                abc.append(l.get(\"href\"))\n",
    "        for j in range(len(abc)):\n",
    "            b = \"https://www.ptt.cc\"+str(abc[j])\n",
    "            time.sleep(0.01)\n",
    "            try:\n",
    "                urllib.urlretrieve(b, \"/Users/kyoyachuan/Downloads/ptt/left\"+str(i)+str(j)+\".txt\")\n",
    "            except:\n",
    "                error.append(b)\n",
    "    except:\n",
    "        print url[i]\n",
    "print 'error:', len(error)\n",
    "if len(error) != 0:\n",
    "    for j in range(len(error)):\n",
    "        try:\n",
    "            urllib.urlretrieve(error[j], \"/Users/kyoyachuan/Downloads/ptt/lefterror\"+str(j)+\".txt\")\n",
    "        except:\n",
    "            print error[j]\n",
    "\n",
    "end = time.time()\n",
    "elapsed = end - start\n",
    "print \"Time taken: \", elapsed, \"seconds.\"\n"
   ]
  },
  {
   "cell_type": "code",
   "execution_count": null,
   "metadata": {
    "collapsed": true
   },
   "outputs": [],
   "source": []
  }
 ],
 "metadata": {
  "kernelspec": {
   "display_name": "Python 2",
   "language": "python",
   "name": "python2"
  },
  "language_info": {
   "codemirror_mode": {
    "name": "ipython",
    "version": 2
   },
   "file_extension": ".py",
   "mimetype": "text/x-python",
   "name": "python",
   "nbconvert_exporter": "python",
   "pygments_lexer": "ipython2",
   "version": "2.7.11"
  }
 },
 "nbformat": 4,
 "nbformat_minor": 0
}
